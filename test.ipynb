{
 "cells": [
  {
   "cell_type": "code",
   "execution_count": 1,
   "id": "3969d9c6-8182-4450-84da-9a4be2106a5d",
   "metadata": {},
   "outputs": [
    {
     "data": {
      "text/plain": [
       "'/home/carlos/Alfonso'"
      ]
     },
     "execution_count": 1,
     "metadata": {},
     "output_type": "execute_result"
    }
   ],
   "source": [
    "%pwd"
   ]
  },
  {
   "cell_type": "code",
   "execution_count": 2,
   "id": "291f4b69-3b59-4490-bb06-691c31e9d51d",
   "metadata": {},
   "outputs": [],
   "source": [
    "import numpy as np\n",
    "import scipy as sp\n",
    "import pandas as pd\n",
    "import matplotlib.pyplot as plt\n",
    "import sklearn as sk"
   ]
  },
  {
   "cell_type": "code",
   "execution_count": 5,
   "id": "980f6cf0-c93d-4aa0-94f7-bc6d0b1ee3b6",
   "metadata": {},
   "outputs": [],
   "source": [
    "x=np.random.uniform(-1,1,1000)"
   ]
  },
  {
   "cell_type": "code",
   "execution_count": 8,
   "id": "02417e71-b89e-4d54-902c-872374bf6c1a",
   "metadata": {},
   "outputs": [
    {
     "data": {
      "text/plain": [
       "[<matplotlib.lines.Line2D at 0x7f0d1c4b21e0>]"
      ]
     },
     "execution_count": 8,
     "metadata": {},
     "output_type": "execute_result"
    },
    {
     "data": {
      "image/png": "[encoded data removed]",
      "text/plain": [
       "<Figure size 640x480 with 1 Axes>"
      ]
     },
     "metadata": {},
     "output_type": "display_data"
    }
   ],
   "source": [
    "plt.plot(np.sort(x,axis=0),'k+')"
   ]
  },
  {
   "cell_type": "code",
   "execution_count": null,
   "id": "16a00f63-c2d5-4bda-b76d-35827aca177b",
   "metadata": {},
   "outputs": [],
   "source": []
  },
  {
   "cell_type": "code",
   "execution_count": 3,
   "id": "4a5ea9c1-1ded-49bd-b974-20d4983b3f30",
   "metadata": {},
   "outputs": [],
   "source": [
    "mean = [0, 0, 0]\n",
    "cov = [[1, 0.8, 0.6],  # Covariance matrix\n",
    "       [0.8, 1, 0.6],\n",
    "       [0.6, 0.6, 1]]\n",
    "n_samples = 1000  # Number of samples\n",
    "data = np.random.multivariate_normal(mean, cov, size=n_samples)"
   ]
  },
  {
   "cell_type": "code",
   "execution_count": 4,
   "id": "eba1afea-ac93-42ad-a3a5-864fdc907549",
   "metadata": {},
   "outputs": [
    {
     "data": {
      "text/plain": [
       "array([[-0.64640162, -0.11437552, -0.14372393],\n",
       "       [ 1.068238  ,  1.69677095,  0.82337125],\n",
       "       [-0.12575614, -0.9786207 , -0.67406338],\n",
       "       ...,\n",
       "       [-1.32837551, -0.75189892, -0.83376787],\n",
       "       [ 0.17173911,  0.3923625 ,  0.32482075],\n",
       "       [ 0.74685858,  1.05697252, -0.15669321]])"
      ]
     },
     "execution_count": 4,
     "metadata": {},
     "output_type": "execute_result"
    }
   ],
   "source": [
    "data"
   ]
  },
  {
   "cell_type": "code",
   "execution_count": 6,
   "id": "cea68082-5e68-4ec6-8328-d7ca738225fe",
   "metadata": {},
   "outputs": [],
   "source": [
    "from sklearn.decomposition import PCA"
   ]
  },
  {
   "cell_type": "code",
   "execution_count": 7,
   "id": "185de1d9-1f88-4fb3-a12f-d37a02a03320",
   "metadata": {},
   "outputs": [],
   "source": [
    "pca = PCA(n_components=3)\n",
    "\n",
    "pca.fit(data)\n",
    "\n",
    "a = pca.explained_variance_ratio_\n",
    "\n",
    "b = pca.singular_values_\n"
   ]
  },
  {
   "cell_type": "code",
   "execution_count": 8,
   "id": "2ff39a20-1f4c-42ee-809b-2457db7a1c02",
   "metadata": {},
   "outputs": [
    {
     "data": {
      "text/plain": [
       "array([0.79422725, 0.13881358, 0.06695916])"
      ]
     },
     "execution_count": 8,
     "metadata": {},
     "output_type": "execute_result"
    }
   ],
   "source": [
    "a"
   ]
  },
  {
   "cell_type": "code",
   "execution_count": 9,
   "id": "84ff224d-65e0-40de-ae8e-94adf1464707",
   "metadata": {},
   "outputs": [
    {
     "data": {
      "text/plain": [
       "array([48.6001553 , 20.31801367, 14.11140548])"
      ]
     },
     "execution_count": 9,
     "metadata": {},
     "output_type": "execute_result"
    }
   ],
   "source": [
    "b"
   ]
  },
  {
   "cell_type": "code",
   "execution_count": 16,
   "id": "faacad91-3dd9-4366-bf13-7aba6d1ffe6c",
   "metadata": {},
   "outputs": [],
   "source": [
    "for n, letra in enumerate('ABCDE'):\n",
    "    x = np.random.uniform(-1,1,1000)\n",
    "    y = np.random.uniform(-1,1,1000)\n",
    "    f = pd.DataFrame([x, y, np.square(x)+n], index=['X','NADA','FXL']).T.assign(letra=letra)\n",
    "    f.to_csv('testh2o_eval.csv', header=False, mode='a')\n",
    "    pass"
   ]
  },
  {
   "cell_type": "code",
   "execution_count": 14,
   "id": "bf6fba45-e62d-4472-82d2-3f59630bd6ea",
   "metadata": {},
   "outputs": [
    {
     "data": {
      "text/html": [
       "<div>\n",
       "<style scoped>\n",
       "    .dataframe tbody tr th:only-of-type {\n",
       "        vertical-align: middle;\n",
       "    }\n",
       "\n",
       "    .dataframe tbody tr th {\n",
       "        vertical-align: top;\n",
       "    }\n",
       "\n",
       "    .dataframe thead th {\n",
       "        text-align: right;\n",
       "    }\n",
       "</style>\n",
       "<table border=\"1\" class=\"dataframe\">\n",
       "  <thead>\n",
       "    <tr style=\"text-align: right;\">\n",
       "      <th></th>\n",
       "      <th>X</th>\n",
       "      <th>NADA</th>\n",
       "      <th>FXL</th>\n",
       "      <th>letra</th>\n",
       "    </tr>\n",
       "  </thead>\n",
       "  <tbody>\n",
       "    <tr>\n",
       "      <th>0</th>\n",
       "      <td>0.497190</td>\n",
       "      <td>0.584166</td>\n",
       "      <td>4.247198</td>\n",
       "      <td>E</td>\n",
       "    </tr>\n",
       "    <tr>\n",
       "      <th>1</th>\n",
       "      <td>-0.990508</td>\n",
       "      <td>0.013052</td>\n",
       "      <td>4.981107</td>\n",
       "      <td>E</td>\n",
       "    </tr>\n",
       "    <tr>\n",
       "      <th>2</th>\n",
       "      <td>-0.293869</td>\n",
       "      <td>-0.314016</td>\n",
       "      <td>4.086359</td>\n",
       "      <td>E</td>\n",
       "    </tr>\n",
       "    <tr>\n",
       "      <th>3</th>\n",
       "      <td>0.734090</td>\n",
       "      <td>-0.441679</td>\n",
       "      <td>4.538888</td>\n",
       "      <td>E</td>\n",
       "    </tr>\n",
       "    <tr>\n",
       "      <th>4</th>\n",
       "      <td>0.702935</td>\n",
       "      <td>0.338786</td>\n",
       "      <td>4.494118</td>\n",
       "      <td>E</td>\n",
       "    </tr>\n",
       "    <tr>\n",
       "      <th>...</th>\n",
       "      <td>...</td>\n",
       "      <td>...</td>\n",
       "      <td>...</td>\n",
       "      <td>...</td>\n",
       "    </tr>\n",
       "    <tr>\n",
       "      <th>995</th>\n",
       "      <td>0.808384</td>\n",
       "      <td>-0.026599</td>\n",
       "      <td>4.653485</td>\n",
       "      <td>E</td>\n",
       "    </tr>\n",
       "    <tr>\n",
       "      <th>996</th>\n",
       "      <td>0.694385</td>\n",
       "      <td>-0.588639</td>\n",
       "      <td>4.482170</td>\n",
       "      <td>E</td>\n",
       "    </tr>\n",
       "    <tr>\n",
       "      <th>997</th>\n",
       "      <td>-0.053382</td>\n",
       "      <td>0.635094</td>\n",
       "      <td>4.002850</td>\n",
       "      <td>E</td>\n",
       "    </tr>\n",
       "    <tr>\n",
       "      <th>998</th>\n",
       "      <td>-0.556208</td>\n",
       "      <td>-0.615571</td>\n",
       "      <td>4.309368</td>\n",
       "      <td>E</td>\n",
       "    </tr>\n",
       "    <tr>\n",
       "      <th>999</th>\n",
       "      <td>-0.511884</td>\n",
       "      <td>0.387994</td>\n",
       "      <td>4.262025</td>\n",
       "      <td>E</td>\n",
       "    </tr>\n",
       "  </tbody>\n",
       "</table>\n",
       "<p>1000 rows × 4 columns</p>\n",
       "</div>"
      ],
      "text/plain": [
       "            X      NADA       FXL letra\n",
       "0    0.497190  0.584166  4.247198     E\n",
       "1   -0.990508  0.013052  4.981107     E\n",
       "2   -0.293869 -0.314016  4.086359     E\n",
       "3    0.734090 -0.441679  4.538888     E\n",
       "4    0.702935  0.338786  4.494118     E\n",
       "..        ...       ...       ...   ...\n",
       "995  0.808384 -0.026599  4.653485     E\n",
       "996  0.694385 -0.588639  4.482170     E\n",
       "997 -0.053382  0.635094  4.002850     E\n",
       "998 -0.556208 -0.615571  4.309368     E\n",
       "999 -0.511884  0.387994  4.262025     E\n",
       "\n",
       "[1000 rows x 4 columns]"
      ]
     },
     "execution_count": 14,
     "metadata": {},
     "output_type": "execute_result"
    }
   ],
   "source": []
  },
  {
   "cell_type": "code",
   "execution_count": null,
   "id": "c2e8015f-07c6-4255-ab4a-2230a27e2a4f",
   "metadata": {},
   "outputs": [],
   "source": []
  }
 ],
 "metadata": {
  "kernelspec": {
   "display_name": "Python 3 (ipykernel)",
   "language": "python",
   "name": "python3"
  },
  "language_info": {
   "codemirror_mode": {
    "name": "ipython",
    "version": 3
   },
   "file_extension": ".py",
   "mimetype": "text/x-python",
   "name": "python",
   "nbconvert_exporter": "python",
   "pygments_lexer": "ipython3",
   "version": "3.12.6"
  }
 },
 "nbformat": 4,
 "nbformat_minor": 5
}
